{
 "cells": [
  {
   "cell_type": "markdown",
   "id": "51cd1ac7",
   "metadata": {},
   "source": [
    "# Planning Academic Year 2021-2022\n",
    "\n",
    "|   | month | week    | startdate  | course | deliverable| status    |\n",
    "|---|:-----:|:-------:|------------|--------|------------|-----------|\n",
    "|| Aug   | 35      | 30-08-2021 |        |            |           |\n",
    "|| Sep   | 36      | 06-09-2021 |        |            |           |\n",
    "|| Sep   | 37      | 13-09-2021 |        |            |           |\n",
    "|| Sep   | 38      | 20-09-2021 |        |            |           |\n",
    "|| Sep   | 39      | 27-09-2021 | Week 1 |            |           |\n",
    "|| Okt   | 40      | 04-10-2021 |        |            |           |\n",
    "|| Okt   | 41      | 11-10-2021 |        |            |           |\n",
    "|**--now-->**| **Okt**|**42** |**18-10-2021**|       |            |**Meeting 1**|\n",
    "|| Okt   | 43      | 25-10-2021 |        |            |           |\n",
    "|| Nov   | 44      | 01-11-2021 |        |            |           |\n",
    "|| Nov   | 45      | 08-11-2021 |        | Paper 1    |           |\n",
    "|| Nov   | 46      | 15-11-2021 |        |            | Meeting 2 |\n",
    "|| Nov   | 47      | 22-11-2021 |        |            |           |\n",
    "|| Nov   | 48      | 29-11-2021 |        |            |           |\n",
    "|| Dec   | 49      | 06-12-2021 | Week 2 |            |           |\n",
    "|| Dec   | 50      | 13-12-2021 |        |            | Meeting 3 |\n",
    "|| Dec   | 51      | 20-12-2021 |        |            |           |\n",
    "|| Dec   | 52      | 27-12-2021 |        |            |           |\n",
    "|| Jan   | 1       | 03-01-2022 |        | Paper 2*   |           |\n",
    "|| Jan   | 2       | 10-01-2022 |        |            | Meeting 4 |\n",
    "|| Jan   | 3       | 17-01-2022 |        |            |           |\n",
    "|| Jan   | 4       | 24-01-2022 |        |            |           |\n",
    "|| Feb   | 5       | 31-01-2022 |        |            |           |\n",
    "|| Feb   | 6       | 07-02-2022 | Week 3 |            |           |\n",
    "|| Feb   | 7       | 14-02-2022 |        |            |           |\n",
    "|| Feb   | 8       | 21-02-2022 |        |            |           |\n",
    "|| Feb   | 9       | 28-02-2022 |        |            |           |\n",
    "|| Mar   | 10      | 07-03-2022 |        | Paper 3*   |           |\n",
    "|| Mar   | 11      | 14-03-2022 |        |            | Meeting 5 |\n",
    "|| Mar   | 12      | 21-03-2022 |        |            |           |\n",
    "|| Mar   | 13      | 28-03-2022 | Week 4 |            |           |\n",
    "|| Apr   | 14      | 04-04-2022 |        |            |           |\n",
    "|| Apr   | 15      | 11-04-2022 |        |            |           |\n",
    "|| Apr   | 16      | 18-04-2022 |        |            |           |\n",
    "|| Apr   | 17      | 25-04-2022 |        | Paper 4*   |           |\n",
    "|| May   | 18      | 02-05-2022 |        |            |           |\n",
    "|| May   | 19      | 09-05-2022 |        |            | Meeting 6 |\n",
    "|| May   | 20      | 16-05-2022 |        |            |           |\n",
    "|| May   | 21      | 23-05-2022 |        |            |           |\n",
    "|| May   | 22      | 30-05-2022 | Week 5 |            |           |\n",
    "|| Jun   | 23      | 06-06-2022 |        |            |           |\n",
    "|| Jun   | 24      | 13-06-2022 |        |            |           |\n",
    "|| Jun   | 25      | 20-06-2022 |        |            |           |\n",
    "|| Jun   | 26      | 27-06-2022 |        | Paper 5*   |           |\n",
    "|| Jul   | 27      | 04-07-2022 |        |            |           |\n",
    "|| Jul   | 28      | 11-07-2022 |        |            | Meeting 7 |\n",
    "|| Jul   | 29      | 18-07-2022 |        |            |           |\n",
    "|| Jul   | 30      | 25-07-2022 |        |            |           |\n",
    "|| Aug   | 31      | 01-08-2022 |        |            |           |\n",
    "|| Aug   | 32      | 08-08-2022 |        |            |           |\n",
    "|| Aug   | 33      | 15-08-2022 |        |            |           |\n",
    "|| Aug   | 34      | 22-08-2022 |        |            |           |\n",
    "\n",
    "*) I don't yet know when papers 2 through 5 are due. For now these papers are assumed to be due 4 weeks after course week. When the actual data become known this planning will be updated."
   ]
  }
 ],
 "metadata": {
  "jupytext": {
   "text_representation": {
    "extension": ".md",
    "format_name": "myst"
   }
  },
  "kernelspec": {
   "display_name": "Python 3",
   "language": "python",
   "name": "python3"
  },
  "language_info": {
   "codemirror_mode": {
    "name": "ipython",
    "version": 3
   },
   "file_extension": ".py",
   "mimetype": "text/x-python",
   "name": "python",
   "nbconvert_exporter": "python",
   "pygments_lexer": "ipython3",
   "version": "3.8.12"
  },
  "source_map": [
   10
  ]
 },
 "nbformat": 4,
 "nbformat_minor": 5
}