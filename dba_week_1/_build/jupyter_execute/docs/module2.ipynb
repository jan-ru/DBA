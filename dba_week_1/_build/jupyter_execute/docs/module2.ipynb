{
 "cells": [
  {
   "cell_type": "markdown",
   "id": "da5dcddf",
   "metadata": {},
   "source": [
    "# Literature Search & Review September 2021\n",
    "\n",
    "```{figure} /_static/module2/LiteratureSearchExercise.png\n",
    ":scale: 70%\n",
    "```\n",
    "\n",
    "```{figure} /_static/module2/ConnectedPapers-ProcessMining.png\n",
    ":scale: 70%\n",
    "```\n",
    "\n",
    "```{figure} /_static/module2/ConnectedPapers-BPM.png\n",
    ":scale: 70%\n",
    "```\n",
    "\n",
    "```{figure} /_static/module2/ConnectedPapers-GRC.png\n",
    ":scale: 70%\n",
    "```"
   ]
  }
 ],
 "metadata": {
  "jupytext": {
   "text_representation": {
    "extension": ".md",
    "format_name": "myst"
   }
  },
  "kernelspec": {
   "display_name": "Python 3",
   "language": "python",
   "name": "python3"
  },
  "language_info": {
   "codemirror_mode": {
    "name": "ipython",
    "version": 3
   },
   "file_extension": ".py",
   "mimetype": "text/x-python",
   "name": "python",
   "nbconvert_exporter": "python",
   "pygments_lexer": "ipython3",
   "version": "3.8.12"
  },
  "source_map": [
   10
  ]
 },
 "nbformat": 4,
 "nbformat_minor": 5
}