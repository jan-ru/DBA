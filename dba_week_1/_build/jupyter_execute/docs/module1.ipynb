{
 "cells": [
  {
   "cell_type": "markdown",
   "id": "0e849a17",
   "metadata": {},
   "source": [
    "# Introduction Module September 2021\n",
    "\n",
    "```{figure} /_static/module1/welcome.png\n",
    ":scale: 85%\n",
    "```\n",
    "\n",
    "Literature, discussions and submissions on:\n",
    "\n",
    "* About the research practice gap\n",
    "* About our craft and having an impact\n",
    "* Learning the craft of scholarship\n",
    "* Academic styles\n",
    "* Back to the future\n",
    "\n",
    "\n",
    "Abdel and I 'volunteered' to be the spokespersons for module 4. Abdel led the discussion using the below 4 slides.\n",
    "\n",
    "```{figure} /_static/module1/module41.jpg\n",
    ":scale: 50%\n",
    "```\n",
    "\n",
    "```{figure} /_static/module1/module42.jpg\n",
    ":scale: 50%\n",
    "```\n",
    "\n",
    "```{figure} /_static/module1/module43.jpg\n",
    ":scale: 50%\n",
    "```\n",
    "\n",
    "```{figure} /_static/module1/module44.jpg\n",
    ":scale: 50%\n",
    "```\n",
    "\n",
    "\n",
    "Ending this series of lectures / workshops, we all submitted a 'mental map':\n",
    "\n",
    "```{figure} /_static/module3/Gent_DBA_BMC_JRM.jpg\n",
    ":scale: 100%\n",
    "```"
   ]
  }
 ],
 "metadata": {
  "jupytext": {
   "text_representation": {
    "extension": ".md",
    "format_name": "myst"
   }
  },
  "kernelspec": {
   "display_name": "Python 3",
   "language": "python",
   "name": "python3"
  },
  "language_info": {
   "codemirror_mode": {
    "name": "ipython",
    "version": 3
   },
   "file_extension": ".py",
   "mimetype": "text/x-python",
   "name": "python",
   "nbconvert_exporter": "python",
   "pygments_lexer": "ipython3",
   "version": "3.8.12"
  },
  "source_map": [
   10
  ]
 },
 "nbformat": 4,
 "nbformat_minor": 5
}