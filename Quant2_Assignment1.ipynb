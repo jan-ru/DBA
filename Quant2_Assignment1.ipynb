{
  "nbformat": 4,
  "nbformat_minor": 0,
  "metadata": {
    "colab": {
      "name": "Quant2-Assignment1.ipynb",
      "provenance": [],
      "authorship_tag": "ABX9TyM6eXeXwprWL/jWnemVttX1",
      "include_colab_link": true
    },
    "kernelspec": {
      "name": "python3",
      "display_name": "Python 3"
    },
    "language_info": {
      "name": "python"
    }
  },
  "cells": [
    {
      "cell_type": "markdown",
      "metadata": {
        "id": "view-in-github",
        "colab_type": "text"
      },
      "source": [
        "<a href=\"https://colab.research.google.com/github/jan-ru/DBA/blob/main/Quant2_Assignment1.ipynb\" target=\"_parent\"><img src=\"https://colab.research.google.com/assets/colab-badge.svg\" alt=\"Open In Colab\"/></a>"
      ]
    },
    {
      "cell_type": "markdown",
      "source": [
        "Version control on Github\n",
        "\n",
        "One source (also for slides)\n",
        "\n"
      ],
      "metadata": {
        "id": "N0tsqFandSLM"
      }
    },
    {
      "cell_type": "code",
      "execution_count": null,
      "metadata": {
        "id": "4zSpepM_dLRe"
      },
      "outputs": [],
      "source": [
        "# load standard libraries\n",
        "! pip install pandas-datareader==0.10.0\n",
        "import pandas as pd\n",
        "import pandas_datareader.data as web\n",
        "import numpy as np\n",
        "from sklearn.linear_model import LinearRegression\n",
        "import matplotlib.pyplot as plt"
      ]
    }
  ]
}