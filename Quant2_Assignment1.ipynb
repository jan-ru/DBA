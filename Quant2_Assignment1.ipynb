{
  "nbformat": 4,
  "nbformat_minor": 0,
  "metadata": {
    "colab": {
      "name": "Quant2-Assignment1.ipynb",
      "provenance": [],
      "authorship_tag": "ABX9TyNyW00XENcM4vv86FTTgrYy",
      "include_colab_link": true
    },
    "kernelspec": {
      "name": "python3",
      "display_name": "Python 3"
    },
    "language_info": {
      "name": "python"
    }
  },
  "cells": [
    {
      "cell_type": "markdown",
      "metadata": {
        "id": "view-in-github",
        "colab_type": "text"
      },
      "source": [
        "<a href=\"https://colab.research.google.com/github/jan-ru/DBA/blob/main/Quant2_Assignment1.ipynb\" target=\"_parent\"><img src=\"https://colab.research.google.com/assets/colab-badge.svg\" alt=\"Open In Colab\"/></a>"
      ]
    },
    {
      "cell_type": "markdown",
      "source": [
        "Version control on Github\n",
        "\n",
        "One source (also for slides)\n",
        "\n"
      ],
      "metadata": {
        "id": "N0tsqFandSLM"
      }
    },
    {
      "cell_type": "code",
      "execution_count": null,
      "metadata": {
        "id": "4zSpepM_dLRe"
      },
      "outputs": [],
      "source": [
        ""
      ]
    }
  ]
}